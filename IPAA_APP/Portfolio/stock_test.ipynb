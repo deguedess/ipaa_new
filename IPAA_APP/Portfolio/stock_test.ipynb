{
 "cells": [
  {
   "cell_type": "code",
   "execution_count": 2,
   "metadata": {},
   "outputs": [],
   "source": [
    "from pandas_datareader import data as web\n",
    "import numpy as np\n",
    "import pandas as pd\n",
    "\n",
    "import matplotlib.pyplot as plt\n",
    "from keras.models import Sequential\n",
    "from keras.layers import Dense, LSTM\n",
    "import math\n",
    "from sklearn.preprocessing import MinMaxScaler"
   ]
  },
  {
   "cell_type": "code",
   "execution_count": 28,
   "metadata": {},
   "outputs": [
    {
     "name": "stdout",
     "output_type": "stream",
     "text": [
      "         Date       High        Low       Open      Close    Volume  Adj Close\n",
      "14 2021-01-22  26.299999  25.100000  25.129999  25.990000  43004200  25.971165\n",
      "15 2021-01-26  27.070000  25.670000  26.250000  25.750000  44474300  25.731340\n",
      "16 2021-01-27  26.389999  25.350000  25.719999  25.790001  44942000  25.771311\n",
      "17 2021-01-28  26.500000  25.389999  25.870001  26.190001  32819900  26.171021\n",
      "18 2021-01-29  26.080000  25.030001  25.740000  25.270000  36141300  25.251688\n"
     ]
    }
   ],
   "source": [
    "df = web.DataReader(\"MGLU3.SA\", data_source='yahoo',\n",
    "                                        start='2021-01-01', end='2021-01-31')\n",
    "\n",
    "df.reset_index(inplace=True)\n",
    "\n",
    "print(df.tail())"
   ]
  },
  {
   "cell_type": "code",
   "execution_count": null,
   "metadata": {},
   "outputs": [],
   "source": [
    "\n",
    "final_data = df\n",
    "\n",
    "#  Plotting date vs the close market stock price\n",
    "final_data.plot('Date','Close',color=\"red\")\n",
    " \n",
    "# Extract only top 60 rows to make the plot a little clearer\n",
    "new_data = final_data.head(60)\n",
    " \n",
    "#  Plotting date vs the close  market stock price\n",
    "new_data.plot('Date','Close',color=\"green\")\n",
    " \n",
    "plt.show()"
   ]
  },
  {
   "cell_type": "code",
   "execution_count": 6,
   "metadata": {},
   "outputs": [],
   "source": [
    "# 1. Filter out the closing market price data\n",
    "close_data = final_data.filter(['Close'])\n",
    " \n",
    "# 2. Convert the data into array for easy evaluation\n",
    "dataset = close_data.values\n",
    " \n",
    "# 3. Scale/Normalize the data to make all values between 0 and 1\n",
    "scaler = MinMaxScaler(feature_range=(0, 1))\n",
    "scaled_data = scaler.fit_transform(dataset)\n",
    " \n",
    "# 4. Creating training data size : 70% of the data\n",
    "training_data_len = math.ceil(len(dataset) *.7)\n",
    "train_data = scaled_data[0:training_data_len  , : ]\n",
    " \n",
    "# 5. Separating the data into x and y data\n",
    "x_train_data=[]\n",
    "y_train_data =[]\n",
    "for i in range(60,len(train_data)):\n",
    "    x_train_data=list(x_train_data)\n",
    "    y_train_data=list(y_train_data)\n",
    "    x_train_data.append(train_data[i-60:i,0])\n",
    "    y_train_data.append(train_data[i,0])\n",
    " \n",
    "    # 6. Converting the training x and y values to numpy arrays\n",
    "    x_train_data1, y_train_data1 = np.array(x_train_data), np.array(y_train_data)\n",
    " \n",
    "    # 7. Reshaping training s and y data to make the calculations easier\n",
    "    x_train_data2 = np.reshape(x_train_data1, (x_train_data1.shape[0],x_train_data1.shape[1],1))\n"
   ]
  },
  {
   "cell_type": "code",
   "execution_count": 7,
   "metadata": {},
   "outputs": [],
   "source": [
    "model = Sequential()\n",
    "model.add(LSTM(units=50, return_sequences=True,input_shape=(x_train_data2.shape[1],1)))\n",
    "model.add(LSTM(units=50, return_sequences=False))\n",
    "model.add(Dense(units=25))\n",
    "model.add(Dense(units=1))"
   ]
  },
  {
   "cell_type": "code",
   "execution_count": 9,
   "metadata": {},
   "outputs": [
    {
     "name": "stdout",
     "output_type": "stream",
     "text": [
      "113/113 [==============================] - 4s 19ms/step - loss: 0.0043\n"
     ]
    },
    {
     "data": {
      "text/plain": [
       "<keras.callbacks.History at 0x21198a11af0>"
      ]
     },
     "execution_count": 9,
     "metadata": {},
     "output_type": "execute_result"
    }
   ],
   "source": [
    "model.compile(optimizer='adam', loss='mean_squared_error')\n",
    "model.fit(x_train_data2, y_train_data1, batch_size=1, epochs=1)"
   ]
  },
  {
   "cell_type": "code",
   "execution_count": 25,
   "metadata": {},
   "outputs": [
    {
     "name": "stdout",
     "output_type": "stream",
     "text": [
      "[[0.74780487]\n",
      " [0.75756101]\n",
      " [0.74292681]\n",
      " [0.72390245]\n",
      " [0.77609755]\n",
      " [0.76341462]\n",
      " [0.77024395]\n",
      " [0.77707319]\n",
      " [0.75170731]\n",
      " [0.72926833]\n",
      " [0.77560974]\n",
      " [0.7629268 ]\n",
      " [0.74780487]\n",
      " [0.79365856]\n",
      " [0.78926831]\n",
      " [0.79804881]\n",
      " [0.81707317]\n",
      " [0.83853661]\n",
      " [0.87707315]\n",
      " [0.88585365]\n",
      " [0.84780493]\n",
      " [0.86000005]\n",
      " [0.85951224]\n",
      " [0.85414635]\n",
      " [0.82243905]\n",
      " [0.79512201]\n",
      " [0.76634151]\n",
      " [0.77024395]\n",
      " [0.77951217]\n",
      " [0.72487808]\n",
      " [0.72634143]\n",
      " [0.71658539]\n",
      " [0.6936585 ]\n",
      " [0.71804875]\n",
      " [0.72878051]\n",
      " [0.7195122 ]\n",
      " [0.71512194]\n",
      " [0.74      ]\n",
      " [0.74292681]\n",
      " [0.70878052]\n",
      " [0.66731709]\n",
      " [0.6619512 ]\n",
      " [0.63902441]\n",
      " [0.64439029]\n",
      " [0.64000004]\n",
      " [0.60439021]\n",
      " [0.65853659]\n",
      " [0.67365851]\n",
      " [0.63707314]\n",
      " [0.64829273]\n",
      " [0.64097558]\n",
      " [0.6097561 ]\n",
      " [0.63121954]\n",
      " [0.59853661]\n",
      " [0.64195121]\n",
      " [0.67024389]\n",
      " [0.63658542]\n",
      " [0.63951222]\n",
      " [0.55804881]\n",
      " [0.57073174]\n",
      " [0.55073175]\n",
      " [0.53073176]\n",
      " [0.51853664]\n",
      " [0.52829268]\n",
      " [0.5029268 ]\n",
      " [0.51951218]\n",
      " [0.51707319]\n",
      " [0.49414635]\n",
      " [0.48243904]\n",
      " [0.45219514]\n",
      " [0.41170734]\n",
      " [0.39999999]\n",
      " [0.41951221]\n",
      " [0.42975612]\n",
      " [0.3887805 ]\n",
      " [0.3873171 ]\n",
      " [0.42536587]\n",
      " [0.40439024]\n",
      " [0.45024393]\n",
      " [0.42146343]\n",
      " [0.42731708]\n",
      " [0.41121953]\n",
      " [0.43024393]\n",
      " [0.41658536]\n",
      " [0.38975609]\n",
      " [0.36731711]\n",
      " [0.32536586]\n",
      " [0.32585367]\n",
      " [0.32195124]\n",
      " [0.30439023]\n",
      " [0.28585369]\n",
      " [0.26390243]\n",
      " [0.2473171 ]\n",
      " [0.27121953]\n",
      " [0.28341465]\n",
      " [0.26048781]\n",
      " [0.32682926]\n",
      " [0.30195125]\n",
      " [0.36048782]\n",
      " [0.35512198]\n",
      " [0.38585365]\n",
      " [0.26390243]\n",
      " [0.19512195]\n",
      " [0.17219516]\n",
      " [0.15853659]\n",
      " [0.17219516]\n",
      " [0.15121953]\n",
      " [0.13951222]\n",
      " [0.1502439 ]\n",
      " [0.14439025]\n",
      " [0.11317076]\n",
      " [0.11219513]\n",
      " [0.10048783]\n",
      " [0.05560977]\n",
      " [0.04975612]\n",
      " [0.06390246]\n",
      " [0.07609758]\n",
      " [0.09170732]\n",
      " [0.05219513]\n",
      " [0.02634148]\n",
      " [0.03073171]\n",
      " [0.01512197]\n",
      " [0.        ]\n",
      " [0.02097562]\n",
      " [0.03219514]\n",
      " [0.04487805]\n",
      " [0.0287805 ]\n",
      " [0.03317075]\n",
      " [0.02048781]\n",
      " [0.02243903]\n",
      " [0.05073173]\n",
      " [0.05317074]\n",
      " [0.04975612]\n",
      " [0.07219512]]\n"
     ]
    }
   ],
   "source": [
    "# 1. Creating a dataset for testing\n",
    "test_data = scaled_data[training_data_len - 60: , : ]\n",
    "print(test_data)\n",
    "x_test = []\n",
    "y_test =  dataset[training_data_len : , : ]\n",
    "\n",
    "for i in range(60,len(test_data)):\n",
    "    x_test.append(test_data[i-60:i,0])\n",
    " \n",
    "\n",
    "# 2.  Convert the values into arrays for easier computation\n",
    "x_test = np.array(x_test)\n",
    "x_test = np.reshape(x_test, (x_test.shape[0],x_test.shape[1],1))\n",
    "\n",
    " \n",
    "# 3. Making predictions on the testing data\n",
    "predictions = model.predict(x_test)\n",
    "predictions = scaler.inverse_transform(predictions)\n",
    "\n",
    "#print(predictions[:10])\n"
   ]
  },
  {
   "cell_type": "code",
   "execution_count": 11,
   "metadata": {},
   "outputs": [
    {
     "name": "stdout",
     "output_type": "stream",
     "text": [
      "3.497566954288606\n"
     ]
    }
   ],
   "source": [
    "rmse=np.sqrt(np.mean(((predictions- y_test)**2)))\n",
    "print(rmse)"
   ]
  },
  {
   "cell_type": "code",
   "execution_count": 20,
   "metadata": {},
   "outputs": [
    {
     "name": "stdout",
     "output_type": "stream",
     "text": [
      "          Date       High        Low       Open      Close       Volume  \\\n",
      "173 2021-09-14  17.780001  16.850000  17.540001  17.030001   49175200.0   \n",
      "174 2021-09-15  17.129999  16.490000  17.080000  16.620001   30868200.0   \n",
      "175 2021-09-16  16.620001  16.110001  16.450001  16.370001   31384100.0   \n",
      "176 2021-09-17  16.770000  15.860000  16.309999  16.570000   44037800.0   \n",
      "177 2021-09-20  16.410000  15.790000  16.240000  16.049999   26978100.0   \n",
      "..         ...        ...        ...        ...        ...          ...   \n",
      "242 2021-12-23   6.340000   5.990000   6.220000   6.200000   97106100.0   \n",
      "243 2021-12-27   6.780000   6.230000   6.230000   6.780000  124279800.0   \n",
      "244 2021-12-28   6.960000   6.640000   6.790000   6.830000  165573900.0   \n",
      "245 2021-12-29   6.900000   6.700000   6.840000   6.760000   79247400.0   \n",
      "246 2021-12-30   7.410000   6.770000   6.800000   7.220000  180329400.0   \n",
      "\n",
      "     Adj Close  \n",
      "173  17.030001  \n",
      "174  16.620001  \n",
      "175  16.370001  \n",
      "176  16.570000  \n",
      "177  16.049999  \n",
      "..         ...  \n",
      "242   6.200000  \n",
      "243   6.780000  \n",
      "244   6.830000  \n",
      "245   6.760000  \n",
      "246   7.220000  \n",
      "\n",
      "[74 rows x 7 columns]\n"
     ]
    },
    {
     "name": "stderr",
     "output_type": "stream",
     "text": [
      "<ipython-input-20-c46de6a358f2>:7: SettingWithCopyWarning: \n",
      "A value is trying to be set on a copy of a slice from a DataFrame.\n",
      "Try using .loc[row_indexer,col_indexer] = value instead\n",
      "\n",
      "See the caveats in the documentation: https://pandas.pydata.org/pandas-docs/stable/user_guide/indexing.html#returning-a-view-versus-a-copy\n",
      "  valid['Predictions'] = predictions\n"
     ]
    },
    {
     "data": {
      "image/png": "[encoded data removed]",
      "text/plain": [
       "<Figure size 432x288 with 1 Axes>"
      ]
     },
     "metadata": {
      "needs_background": "light"
     },
     "output_type": "display_data"
    }
   ],
   "source": [
    "train = df[:training_data_len]\n",
    "valid = df[training_data_len:]\n",
    "\n",
    "print(valid)\n",
    "\n",
    " \n",
    "valid['Predictions'] = predictions\n",
    " \n",
    "plt.title('Model')\n",
    "plt.xlabel('Date')\n",
    "plt.ylabel('Close')\n",
    " \n",
    "plt.plot(train['Close'])\n",
    "plt.plot(valid[['Close', 'Predictions']])\n",
    " \n",
    "plt.legend(['Train', 'Val', 'Predictions'], loc='lower right')\n",
    " \n",
    "plt.show()"
   ]
  }
 ],
 "metadata": {
  "interpreter": {
   "hash": "1242652e4d1e1d4e3bb6033bda9ce7ca9ff3d46736d33653f3ee73e16ef47ac6"
  },
  "kernelspec": {
   "display_name": "Python 3.8.8 ('base')",
   "language": "python",
   "name": "python3"
  },
  "language_info": {
   "codemirror_mode": {
    "name": "ipython",
    "version": 3
   },
   "file_extension": ".py",
   "mimetype": "text/x-python",
   "name": "python",
   "nbconvert_exporter": "python",
   "pygments_lexer": "ipython3",
   "version": "3.8.8"
  },
  "orig_nbformat": 4
 },
 "nbformat": 4,
 "nbformat_minor": 2
}
