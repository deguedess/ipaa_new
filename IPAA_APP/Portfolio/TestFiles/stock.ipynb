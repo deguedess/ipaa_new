{
 "cells": [
  {
   "cell_type": "code",
   "execution_count": 2,
   "metadata": {},
   "outputs": [],
   "source": [
    "# importar as bibliotecas necessárias\n",
    "import pandas as pd\n",
    "from pandas_datareader import data as web\n",
    "import plotly.graph_objects as go\n",
    "\n",
    "#from Polls.models import Acao, Simulacao_cenarios\n",
    "\n",
    "# criar um DataFrame vazio\n",
    "df = pd.DataFrame()"
   ]
  },
  {
   "cell_type": "code",
   "execution_count": 17,
   "metadata": {},
   "outputs": [
    {
     "name": "stdout",
     "output_type": "stream",
     "text": [
      "           action  value\n",
      "2020-10-14  SPLIT  0.250\n",
      "2019-08-06  SPLIT  0.125\n",
      "-----\n",
      "0    25.0\n",
      "1    12.5\n",
      "Name: value, dtype: float64\n"
     ]
    }
   ],
   "source": [
    "acao = 'MGLU3.SA'\n",
    "\n",
    "#Simulacao_acao\n",
    " \n",
    "# importar dados para o DataFrame\n",
    "df = web.DataReader(acao, data_source='yahoo-actions', start='01-01-2019')\n",
    " \n",
    "# ver as 5 primeiras entradas\n",
    "df.head()\n",
    "df = (df[(df.action == 'SPLIT')])\n",
    "print(df)\n",
    "print('-----')\n",
    "\n",
    "#df.reset_index(inplace=True)\n",
    "\n",
    "vlr = 100\n",
    "\n",
    "vlr *= df['value']\n",
    "    \n",
    "\n",
    "print(vlr)"
   ]
  },
  {
   "cell_type": "code",
   "execution_count": 1,
   "metadata": {},
   "outputs": [
    {
     "name": "stdout",
     "output_type": "stream",
     "text": [
      "              indicator           signal    value\n",
      "0               RSI(14)          neutral  45.0590\n",
      "1            STOCH(9,6)          neutral  45.2950\n",
      "2          STOCHRSI(14)             sell  34.5500\n",
      "3           MACD(12,26)             sell  -0.0100\n",
      "4               ADX(14)             sell  23.6980\n",
      "5           Williams %R             sell -69.4440\n",
      "6               CCI(14)             sell -78.5141\n",
      "7               ATR(14)  high_volatility   0.5407\n",
      "8        Highs/Lows(14)             sell  -0.0936\n",
      "9   Ultimate Oscillator             sell  39.7350\n",
      "10                  ROC              buy   3.4310\n",
      "11  Bull/Bear Power(13)             sell  -0.4180\n"
     ]
    }
   ],
   "source": [
    "import investpy as inv\n",
    "\n",
    "search_result = inv.search_quotes(text='magazine', products=['stocks'],\n",
    "                                       countries=['brazil'], n_results=1)\n",
    "\n",
    "technical_indicators = search_result.retrieve_technical_indicators(interval=\"daily\")\n",
    "print(technical_indicators)"
   ]
  },
  {
   "cell_type": "code",
   "execution_count": 6,
   "metadata": {},
   "outputs": [
    {
     "name": "stdout",
     "output_type": "stream",
     "text": [
      "5\n"
     ]
    }
   ],
   "source": [
    "import math\n",
    "print(math.ceil(4.2))"
   ]
  }
 ],
 "metadata": {
  "interpreter": {
   "hash": "1242652e4d1e1d4e3bb6033bda9ce7ca9ff3d46736d33653f3ee73e16ef47ac6"
  },
  "kernelspec": {
   "display_name": "Python 3.8.8 64-bit ('base': conda)",
   "language": "python",
   "name": "python3"
  },
  "language_info": {
   "codemirror_mode": {
    "name": "ipython",
    "version": 3
   },
   "file_extension": ".py",
   "mimetype": "text/x-python",
   "name": "python",
   "nbconvert_exporter": "python",
   "pygments_lexer": "ipython3",
   "version": "3.8.8"
  },
  "orig_nbformat": 4
 },
 "nbformat": 4,
 "nbformat_minor": 2
}
