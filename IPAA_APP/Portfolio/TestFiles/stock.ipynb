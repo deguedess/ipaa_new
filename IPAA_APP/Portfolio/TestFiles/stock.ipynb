{
 "cells": [
  {
   "cell_type": "code",
   "execution_count": 1,
   "metadata": {},
   "outputs": [],
   "source": [
    "# importar as bibliotecas necessárias\n",
    "import pandas as pd\n",
    "from pandas_datareader import data as web\n",
    "import plotly.graph_objects as go\n",
    "\n",
    "#from Polls.models import Acao, Simulacao_cenarios\n",
    "\n",
    "# criar um DataFrame vazio\n",
    "df = pd.DataFrame()"
   ]
  },
  {
   "cell_type": "code",
   "execution_count": 10,
   "metadata": {},
   "outputs": [
    {
     "name": "stdout",
     "output_type": "stream",
     "text": [
      "              action     value\n",
      "2022-03-25  DIVIDEND  0.113370\n",
      "2022-03-02  DIVIDEND  0.023529\n",
      "2022-03-01  DIVIDEND  0.020000\n",
      "2022-01-17  DIVIDEND  0.133340\n",
      "2021-12-14  DIVIDEND  0.022409\n",
      "2021-12-01  DIVIDEND  0.022409\n",
      "2021-11-24  DIVIDEND  0.147352\n",
      "2021-09-01  DIVIDEND  0.019048\n",
      "2021-08-16  DIVIDEND  0.035562\n",
      "2021-06-01  DIVIDEND  0.019048\n",
      "2021-05-28  DIVIDEND  0.018400\n",
      "2021-05-25  DIVIDEND  0.017524\n",
      "2021-04-30  DIVIDEND  0.021310\n",
      "2021-04-28  DIVIDEND  0.020295\n",
      "2021-03-26  DIVIDEND  0.018171\n",
      "2021-03-10  DIVIDEND  0.014720\n",
      "2021-03-01  DIVIDEND  0.019048\n",
      "2021-01-26  DIVIDEND  0.019810\n",
      "2020-12-11  DIVIDEND  0.096810\n",
      "2020-12-01  DIVIDEND  0.019048\n",
      "2020-09-01  DIVIDEND  0.019048\n",
      "2020-08-26  DIVIDEND  0.020000\n",
      "2020-08-18  DIVIDEND  0.019048\n",
      "2020-06-01  DIVIDEND  0.019048\n",
      "2020-03-02  DIVIDEND  0.019048\n",
      "2020-02-21  DIVIDEND  0.215238\n",
      "2019-12-13  DIVIDEND  0.005667\n",
      "2019-12-02  DIVIDEND  0.019048\n",
      "2019-09-02  DIVIDEND  0.019048\n",
      "2019-08-16  DIVIDEND  0.324286\n",
      "2019-06-03  DIVIDEND  0.019048\n",
      "2019-03-01  DIVIDEND  0.019048\n",
      "2019-02-22  DIVIDEND  0.431619\n",
      "2018-12-18  DIVIDEND  0.007714\n",
      "2018-12-03  DIVIDEND  0.019048\n",
      "2018-09-03  DIVIDEND  0.014286\n",
      "2018-08-20  DIVIDEND  0.198857\n",
      "2018-06-01  DIVIDEND  0.012987\n",
      "2018-03-01  DIVIDEND  0.012987\n",
      "2018-02-23  DIVIDEND  0.579437\n",
      "2017-12-26  DIVIDEND  0.145506\n",
      "2017-12-01  DIVIDEND  0.012987\n",
      "2017-09-01  DIVIDEND  0.012987\n",
      "2017-08-15  DIVIDEND  0.068398\n",
      "2017-06-01  DIVIDEND  0.012987\n",
      "2017-03-01  DIVIDEND  0.012987\n",
      "2017-02-21  DIVIDEND  0.144326\n",
      "3.225891\n",
      "-----\n"
     ]
    }
   ],
   "source": [
    "acao = 'ITSA4.SA'\n",
    "\n",
    "#Simulacao_acao\n",
    " \n",
    "# importar dados para o DataFrame\n",
    "df = web.DataReader(acao, data_source='yahoo-actions', start='01-01-2017')\n",
    " \n",
    "# ver as 5 primeiras entradas\n",
    "df.head()\n",
    "df = (df[(df.action == 'DIVIDEND')])\n",
    "print(df)\n",
    "vlr =  df['value'].sum()\n",
    "print(vlr)\n",
    "print('-----')\n",
    "\n",
    "#df.reset_index(inplace=True)\n",
    "\n"
   ]
  },
  {
   "cell_type": "code",
   "execution_count": 1,
   "metadata": {},
   "outputs": [
    {
     "name": "stdout",
     "output_type": "stream",
     "text": [
      "              indicator           signal    value\n",
      "0               RSI(14)          neutral  45.0590\n",
      "1            STOCH(9,6)          neutral  45.2950\n",
      "2          STOCHRSI(14)             sell  34.5500\n",
      "3           MACD(12,26)             sell  -0.0100\n",
      "4               ADX(14)             sell  23.6980\n",
      "5           Williams %R             sell -69.4440\n",
      "6               CCI(14)             sell -78.5141\n",
      "7               ATR(14)  high_volatility   0.5407\n",
      "8        Highs/Lows(14)             sell  -0.0936\n",
      "9   Ultimate Oscillator             sell  39.7350\n",
      "10                  ROC              buy   3.4310\n",
      "11  Bull/Bear Power(13)             sell  -0.4180\n"
     ]
    }
   ],
   "source": [
    "import investpy as inv\n",
    "\n",
    "search_result = inv.search_quotes(text='magazine', products=['stocks'],\n",
    "                                       countries=['brazil'], n_results=1)\n",
    "\n",
    "technical_indicators = search_result.retrieve_technical_indicators(interval=\"daily\")\n",
    "print(technical_indicators)"
   ]
  },
  {
   "cell_type": "code",
   "execution_count": 6,
   "metadata": {},
   "outputs": [
    {
     "name": "stdout",
     "output_type": "stream",
     "text": [
      "5\n"
     ]
    }
   ],
   "source": [
    "import math\n",
    "print(math.ceil(4.2))"
   ]
  }
 ],
 "metadata": {
  "interpreter": {
   "hash": "1242652e4d1e1d4e3bb6033bda9ce7ca9ff3d46736d33653f3ee73e16ef47ac6"
  },
  "kernelspec": {
   "display_name": "Python 3.8.8 64-bit ('base': conda)",
   "language": "python",
   "name": "python3"
  },
  "language_info": {
   "codemirror_mode": {
    "name": "ipython",
    "version": 3
   },
   "file_extension": ".py",
   "mimetype": "text/x-python",
   "name": "python",
   "nbconvert_exporter": "python",
   "pygments_lexer": "ipython3",
   "version": "3.8.8"
  },
  "orig_nbformat": 4
 },
 "nbformat": 4,
 "nbformat_minor": 2
}
