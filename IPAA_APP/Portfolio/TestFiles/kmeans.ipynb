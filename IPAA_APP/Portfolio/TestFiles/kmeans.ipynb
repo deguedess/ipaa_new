{
 "cells": [
  {
   "cell_type": "code",
   "execution_count": 1,
   "metadata": {},
   "outputs": [],
   "source": [
    "from pandas_datareader import data \n",
    "import matplotlib.pyplot as plt\n",
    "import pandas as pd\n",
    "import datetime\n",
    "import numpy as np\n",
    "import plotly.graph_objects as go"
   ]
  },
  {
   "cell_type": "code",
   "execution_count": 2,
   "metadata": {},
   "outputs": [
    {
     "name": "stdout",
     "output_type": "stream",
     "text": [
      "dict_values(['BBDC3.SA', 'MGLU3.SA', 'OIBR3.SA', 'ITSA4.SA', 'KLBN3.SA', 'TCSA3.SA', 'BBSE3.SA', 'PETR4.SA'])\n"
     ]
    }
   ],
   "source": [
    "companies_dict = {\n",
    "    'Bradesco':'BBDC3.SA',\n",
    "    'Magalu':'MGLU3.SA',\n",
    "    'OI':'OIBR3.SA',\n",
    "    'Itausa':'ITSA4.SA',\n",
    "    'Klabin':'KLBN3.SA',\n",
    "    'Tecnisa':'TCSA3.SA',\n",
    "    'BSeguridade':'BBSE3.SA',\n",
    "    'Petrobras':'PETR4.SA'\n",
    "    }\n",
    "\n",
    "print(companies_dict.values())"
   ]
  },
  {
   "cell_type": "code",
   "execution_count": 3,
   "metadata": {},
   "outputs": [],
   "source": [
    "data_source = 'yahoo' # Source of data is yahoo finance.\n",
    "start_date = '01-01-2015'\n",
    "end_date = '31-12-2017'\n",
    "df = data.DataReader(list(companies_dict.values()),\n",
    " data_source,start_date,end_date)"
   ]
  },
  {
   "cell_type": "code",
   "execution_count": null,
   "metadata": {},
   "outputs": [],
   "source": [
    "retorno = 0\n",
    "\n",
    "for com in list(companies_dict.values()):\n",
    "    retDiario = df['Close'][com].pct_change()\n",
    "    retDiario = (retDiario + 1).cumprod()-1\n",
    "    print(com)\n",
    "    print(retDiario[len(retDiario)-1])\n"
   ]
  },
  {
   "cell_type": "code",
   "execution_count": 41,
   "metadata": {},
   "outputs": [
    {
     "name": "stdout",
     "output_type": "stream",
     "text": [
      "BBDC3.SA\n",
      "0.31323855167395537\n",
      "MGLU3.SA\n",
      "0.7348098859034237\n",
      "OIBR3.SA\n",
      "0.8296946257541898\n",
      "ITSA4.SA\n",
      "0.2948074031367954\n",
      "KLBN3.SA\n",
      "0.7184611868539426\n",
      "TCSA3.SA\n",
      "0.4119828784507138\n",
      "BBSE3.SA\n",
      "0.3471522457786328\n",
      "PETR4.SA\n",
      "0.5396444409550589\n"
     ]
    }
   ],
   "source": [
    "for com in list(companies_dict.values()):\n",
    "    ret = np.log(df['Adj Close'][com] / df['Adj Close'][com].shift(1))\n",
    "    desv = ret.std() * 250 ** 0.5\n",
    "    print(com)\n",
    "    print(desv)"
   ]
  },
  {
   "cell_type": "code",
   "execution_count": 87,
   "metadata": {},
   "outputs": [
    {
     "name": "stdout",
     "output_type": "stream",
     "text": [
      "48\n",
      "8\n",
      "----\n",
      "8.0\n",
      "8.0\n"
     ]
    }
   ],
   "source": [
    "inicial = len(df.columns) / 6\n",
    "\n",
    "df = df.dropna(how='all', axis=1)\n",
    "\n",
    "final = len(df.columns) / 6\n",
    "\n",
    "stock_open = np.array(df['Open']).T # stock_open is numpy array of transpose of df['Open']\n",
    "stock_close = np.array(df['Close']).T # stock_close is numpy array of transpose of df['Close']\n",
    "\n",
    "movements = stock_close - stock_open\n",
    "\n",
    "#‘sum_of_movement’ of a company is defined as sum of differences of closing and opening prices of all days.\n",
    "sum_of_movement = np.sum(movements,1)\n",
    "\n",
    "\n",
    "print(len(df.columns))\n",
    "print(len(companies_dict))\n",
    "print('----')\n",
    "print(inicial)\n",
    "print(final)\n"
   ]
  },
  {
   "cell_type": "code",
   "execution_count": 88,
   "metadata": {},
   "outputs": [
    {
     "name": "stdout",
     "output_type": "stream",
     "text": [
      "company:BBDC3.SA, Change:5.334010124206543\n",
      "company:MGLU3.SA, Change:0.6078610233962536\n",
      "company:OIBR3.SA, Change:-14.321333646774292\n",
      "company:ITSA4.SA, Change:-1.6065406799316406\n",
      "company:KLBN3.SA, Change:-4.240002155303955\n",
      "company:TCSA3.SA, Change:-37.4835147857666\n",
      "company:BBSE3.SA, Change:0.5200271606445312\n"
     ]
    }
   ],
   "source": [
    "#The company and its ‘sum_of_movement’ is printed.\n",
    "#Have positive ‘sum_of_movement’. Hence it is advisable to go long(buy) on these stocks.\n",
    "#Have negative ‘sum_of_movement’. Hence it is advisable to short(sell) the stocks.\n",
    "for i in range(len(companies_dict)-1):\n",
    " print('company:{}, Change:{}'.format(df['High'].columns[i],sum_of_movement[i]))"
   ]
  },
  {
   "cell_type": "code",
   "execution_count": 98,
   "metadata": {},
   "outputs": [],
   "source": [
    "# Import the necessary packages\n",
    "from sklearn.pipeline import make_pipeline\n",
    "from sklearn.preprocessing import Normalizer\n",
    "from sklearn.cluster import KMeans\n",
    "from sklearn.decomposition import PCA\n",
    "\n",
    "# Define a normalizer\n",
    "normalizer = Normalizer()\n",
    "# Create Kmeans model\n",
    "kmeans = KMeans(n_clusters = 4,max_iter = 1000)\n",
    "# Make a pipeline chaining normalizer and kmeans\n",
    "pipeline = make_pipeline(normalizer,kmeans)\n",
    "# Fit pipeline to daily stock movements\n",
    "pipeline.fit(movements)\n",
    "labels = pipeline.predict(movements)"
   ]
  },
  {
   "cell_type": "code",
   "execution_count": 119,
   "metadata": {},
   "outputs": [
    {
     "name": "stdout",
     "output_type": "stream",
     "text": [
      "[1 2 3 1 0 1 1 1]\n",
      "3\n",
      "3\n",
      "1\n",
      "BBDC3\n",
      "2\n",
      "MGLU3\n",
      "3\n",
      "OIBR3\n",
      "1\n",
      "ITSA4\n",
      "0\n",
      "KLBN3\n",
      "1\n",
      "TCSA3\n",
      "1\n",
      "BBSE3\n",
      "1\n",
      "PETR4\n"
     ]
    }
   ],
   "source": [
    "df1 = pd.DataFrame({'labels':labels,'companies':list(companies_dict.values())}).sort_values(by=['labels'],axis = 0)\n",
    "\n",
    "print(labels)\n",
    "print(labels[2])\n",
    "print(df1['labels'][2])\n",
    "\n",
    "for i in range(len(df1.index)):\n",
    "    print(df1['labels'][i])\n",
    "    txt = df1['companies'][i].replace('.SA', '')\n",
    "    print(txt)"
   ]
  },
  {
   "cell_type": "code",
   "execution_count": 94,
   "metadata": {},
   "outputs": [
    {
     "name": "stdout",
     "output_type": "stream",
     "text": [
      "   labels    companies\n",
      "1       0       Magalu\n",
      "4       0       Klabin\n",
      "0       1     Bradesco\n",
      "3       1       Itausa\n",
      "6       1  BSeguridade\n",
      "7       1    Petrobras\n",
      "2       2           OI\n",
      "5       3      Tecnisa\n"
     ]
    }
   ],
   "source": [
    "# Define a normalizer\n",
    "normalizer = Normalizer()\n",
    "# Reduce the data\n",
    "reduced_data = PCA(n_components = 2)\n",
    "# Create Kmeans model\n",
    "kmeans = KMeans(n_clusters = 4,max_iter = 1000)\n",
    "# Make a pipeline chaining normalizer, pca and kmeans\n",
    "pipeline = make_pipeline(normalizer,reduced_data,kmeans)\n",
    "# Fit pipeline to daily stock movements\n",
    "pipeline.fit(movements)\n",
    "# Prediction\n",
    "labels = pipeline.predict(movements)\n",
    "# Create dataframe to store companies and predicted labels\n",
    "df2 = pd.DataFrame({'labels':labels,'companies':list(companies_dict.keys())}).sort_values(by=['labels'],axis = 0)\n",
    "print(df2)"
   ]
  },
  {
   "cell_type": "code",
   "execution_count": 35,
   "metadata": {},
   "outputs": [
    {
     "data": {
      "text/plain": [
       "<Figure size 432x288 with 0 Axes>"
      ]
     },
     "metadata": {},
     "output_type": "display_data"
    },
    {
     "data": {
      "image/png": "[encoded data removed]",
      "text/plain": [
       "<Figure size 720x720 with 1 Axes>"
      ]
     },
     "metadata": {
      "needs_background": "light"
     },
     "output_type": "display_data"
    }
   ],
   "source": [
    "# Reduce the data\n",
    "reduced_data = PCA(n_components = 2).fit_transform(movements)\n",
    "# Define step size of mesh\n",
    "h = 0.01\n",
    "# Plot the decision boundary\n",
    "x_min,x_max = reduced_data[:,0].min()-1, reduced_data[:,0].max() + 1\n",
    "y_min,y_max = reduced_data[:,1].min()-1, reduced_data[:,1].max() + 1\n",
    "xx,yy = np.meshgrid(np.arange(x_min,x_max,h),np.arange(y_min,y_max,h))\n",
    "# Obtain labels for each point in the mesh using our trained model\n",
    "Z = kmeans.predict(np.c_[xx.ravel(),yy.ravel()])\n",
    "# Put the result into a color plot\n",
    "Z = Z.reshape(xx.shape)\n",
    "# Define color plot\n",
    "cmap = plt.cm.Paired\n",
    "# Plotting figure\n",
    "plt.clf()\n",
    "plt.figure(figsize=(10,10))\n",
    "plt.imshow(Z,interpolation = 'nearest',extent=(xx.min(),xx.max(),yy.min(),yy.max()),cmap = cmap,aspect = 'auto',origin = 'lower')\n",
    "plt.plot(reduced_data[:,0],reduced_data[:,1],'k.',markersize = 5)\n",
    "# Plot the centroid of each cluster as a white X\n",
    "centroids = kmeans.cluster_centers_\n",
    "plt.scatter(centroids[:,0],centroids[:,1],marker = 'x',s = 169,linewidths = 3,color = 'w',zorder = 10)\n",
    "plt.title('K-Means clustering on stock market movements (PCA-Reduced data)')\n",
    "plt.xlim(x_min,x_max)\n",
    "plt.ylim(y_min,y_max)\n",
    "plt.show()"
   ]
  }
 ],
 "metadata": {
  "interpreter": {
   "hash": "910524ba1d60ff9566fe25be5a20b9d9771b308b63dcda9543d74f9c1e2c3e0a"
  },
  "kernelspec": {
   "display_name": "Python 3.10.0 64-bit",
   "language": "python",
   "name": "python3"
  },
  "language_info": {
   "codemirror_mode": {
    "name": "ipython",
    "version": 3
   },
   "file_extension": ".py",
   "mimetype": "text/x-python",
   "name": "python",
   "nbconvert_exporter": "python",
   "pygments_lexer": "ipython3",
   "version": "3.8.8"
  },
  "orig_nbformat": 4
 },
 "nbformat": 4,
 "nbformat_minor": 2
}
