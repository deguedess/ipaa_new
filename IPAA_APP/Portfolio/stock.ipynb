{
 "cells": [
  {
   "cell_type": "code",
   "execution_count": 2,
   "metadata": {},
   "outputs": [],
   "source": [
    "# importar as bibliotecas necessárias\n",
    "import pandas as pd\n",
    "from pandas_datareader import data as web\n",
    "import plotly.graph_objects as go\n",
    "\n",
    "#from Polls.models import Acao, Simulacao_cenarios\n",
    "\n",
    "# criar um DataFrame vazio\n",
    "df = pd.DataFrame()"
   ]
  },
  {
   "cell_type": "code",
   "execution_count": 5,
   "metadata": {},
   "outputs": [
    {
     "data": {
      "text/html": [
       "<div>\n",
       "<style scoped>\n",
       "    .dataframe tbody tr th:only-of-type {\n",
       "        vertical-align: middle;\n",
       "    }\n",
       "\n",
       "    .dataframe tbody tr th {\n",
       "        vertical-align: top;\n",
       "    }\n",
       "\n",
       "    .dataframe thead th {\n",
       "        text-align: right;\n",
       "    }\n",
       "</style>\n",
       "<table border=\"1\" class=\"dataframe\">\n",
       "  <thead>\n",
       "    <tr style=\"text-align: right;\">\n",
       "      <th></th>\n",
       "      <th>High</th>\n",
       "      <th>Low</th>\n",
       "      <th>Open</th>\n",
       "      <th>Close</th>\n",
       "      <th>Volume</th>\n",
       "      <th>Adj Close</th>\n",
       "    </tr>\n",
       "    <tr>\n",
       "      <th>Date</th>\n",
       "      <th></th>\n",
       "      <th></th>\n",
       "      <th></th>\n",
       "      <th></th>\n",
       "      <th></th>\n",
       "      <th></th>\n",
       "    </tr>\n",
       "  </thead>\n",
       "  <tbody>\n",
       "    <tr>\n",
       "      <th>2000-01-03</th>\n",
       "      <td>2.318106</td>\n",
       "      <td>2.318106</td>\n",
       "      <td>2.318106</td>\n",
       "      <td>2.318106</td>\n",
       "      <td>65225.0</td>\n",
       "      <td>1.307482</td>\n",
       "    </tr>\n",
       "    <tr>\n",
       "      <th>2000-01-04</th>\n",
       "      <td>2.301548</td>\n",
       "      <td>2.235316</td>\n",
       "      <td>2.301548</td>\n",
       "      <td>2.235316</td>\n",
       "      <td>25365.0</td>\n",
       "      <td>1.260786</td>\n",
       "    </tr>\n",
       "    <tr>\n",
       "      <th>2000-01-05</th>\n",
       "      <td>2.235316</td>\n",
       "      <td>2.218758</td>\n",
       "      <td>2.235316</td>\n",
       "      <td>2.218758</td>\n",
       "      <td>15702.0</td>\n",
       "      <td>1.251447</td>\n",
       "    </tr>\n",
       "    <tr>\n",
       "      <th>2000-01-06</th>\n",
       "      <td>2.169085</td>\n",
       "      <td>2.152527</td>\n",
       "      <td>2.152527</td>\n",
       "      <td>2.152527</td>\n",
       "      <td>85759.0</td>\n",
       "      <td>1.214090</td>\n",
       "    </tr>\n",
       "    <tr>\n",
       "      <th>2000-01-07</th>\n",
       "      <td>2.334664</td>\n",
       "      <td>2.318106</td>\n",
       "      <td>2.334664</td>\n",
       "      <td>2.318106</td>\n",
       "      <td>31404.0</td>\n",
       "      <td>1.307482</td>\n",
       "    </tr>\n",
       "  </tbody>\n",
       "</table>\n",
       "</div>"
      ],
      "text/plain": [
       "                High       Low      Open     Close   Volume  Adj Close\n",
       "Date                                                                  \n",
       "2000-01-03  2.318106  2.318106  2.318106  2.318106  65225.0   1.307482\n",
       "2000-01-04  2.301548  2.235316  2.301548  2.235316  25365.0   1.260786\n",
       "2000-01-05  2.235316  2.218758  2.235316  2.218758  15702.0   1.251447\n",
       "2000-01-06  2.169085  2.152527  2.152527  2.152527  85759.0   1.214090\n",
       "2000-01-07  2.334664  2.318106  2.334664  2.318106  31404.0   1.307482"
      ]
     },
     "execution_count": 5,
     "metadata": {},
     "output_type": "execute_result"
    }
   ],
   "source": [
    "acao = 'ITUB3.SA'\n",
    "\n",
    "#Simulacao_acao\n",
    " \n",
    "# importar dados para o DataFrame\n",
    "df = web.DataReader(acao, data_source='yahoo', start='01-01-2000')\n",
    " \n",
    "# ver as 5 primeiras entradas\n",
    "df.head()"
   ]
  },
  {
   "cell_type": "code",
   "execution_count": 5,
   "metadata": {},
   "outputs": [
    {
     "name": "stdout",
     "output_type": "stream",
     "text": [
      "              indicator           signal    value\n",
      "0               RSI(14)          neutral  50.7100\n",
      "1            STOCH(9,6)          neutral  54.6170\n",
      "2          STOCHRSI(14)       overbought  88.5710\n",
      "3           MACD(12,26)             sell  -0.1800\n",
      "4               ADX(14)          neutral  17.6030\n",
      "5           Williams %R              buy -26.4710\n",
      "6               CCI(14)              buy  86.1753\n",
      "7               ATR(14)  less_volatility   0.4743\n",
      "8        Highs/Lows(14)              buy   0.2014\n",
      "9   Ultimate Oscillator             sell  47.5370\n",
      "10                  ROC              buy   4.6730\n",
      "11  Bull/Bear Power(13)              buy   0.0980\n"
     ]
    }
   ],
   "source": [
    "import investpy as inv\n",
    "\n",
    "search_result = inv.search_quotes(text='magazine', products=['stocks'],\n",
    "                                       countries=['brazil'], n_results=1)\n",
    "\n",
    "technical_indicators = search_result.retrieve_technical_indicators(interval=\"daily\")\n",
    "print(technical_indicators)"
   ]
  },
  {
   "cell_type": "code",
   "execution_count": 6,
   "metadata": {},
   "outputs": [
    {
     "name": "stdout",
     "output_type": "stream",
     "text": [
      "5\n"
     ]
    }
   ],
   "source": [
    "import math\n",
    "print(math.ceil(4.2))"
   ]
  }
 ],
 "metadata": {
  "interpreter": {
   "hash": "1242652e4d1e1d4e3bb6033bda9ce7ca9ff3d46736d33653f3ee73e16ef47ac6"
  },
  "kernelspec": {
   "display_name": "Python 3.8.8 64-bit ('base': conda)",
   "language": "python",
   "name": "python3"
  },
  "language_info": {
   "codemirror_mode": {
    "name": "ipython",
    "version": 3
   },
   "file_extension": ".py",
   "mimetype": "text/x-python",
   "name": "python",
   "nbconvert_exporter": "python",
   "pygments_lexer": "ipython3",
   "version": "3.8.8"
  },
  "orig_nbformat": 4
 },
 "nbformat": 4,
 "nbformat_minor": 2
}
